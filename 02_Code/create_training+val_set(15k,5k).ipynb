{
 "cells": [
  {
   "cell_type": "code",
   "execution_count": 1,
   "metadata": {},
   "outputs": [],
   "source": [
    "import sqlalchemy as sa\n",
    "import pandas as pd\n",
    "import numpy as np\n",
    "import re\n",
    "import pickle"
   ]
  },
  {
   "cell_type": "markdown",
   "metadata": {},
   "source": [
    "### Def's"
   ]
  },
  {
   "cell_type": "code",
   "execution_count": null,
   "metadata": {},
   "outputs": [],
   "source": [
    "def pull_class_from_db(engine, column, limit):\n",
    "   \n",
    "    # Create an SQL command to query data from the 'ke_stage.ba_corpus_1' table\n",
    "    # for the specified class (column) and limit the number of results to 'Limit'\n",
    "    sql_command = sa.text(f\"\"\"SELECT class, record_id,title, abstract\n",
    "    FROM ke_stage.ba_corpus_1\n",
    "    where class = '{column}' \n",
    "        and title != '{{}}'\n",
    "        and LENGTH(title::text) > 6\n",
    "        and abstract != '{{}}'\n",
    "        and LENGTH(abstract::text) > 6\n",
    "    Limit {limit};\"\"\")\n",
    "\n",
    "    # Initialize a list to store the result rows\n",
    "    result_all = []\n",
    "    \n",
    "    # Open a connection to the database and execute the SQL command\n",
    "    with engine.connect() as connection:\n",
    "        result = connection.execute(sql_command)\n",
    "        \n",
    "        # Iterate over the result set and append each row to the list\n",
    "        for row in result:\n",
    "            result_all.append(row)\n",
    "\n",
    "    return result_all"
   ]
  },
  {
   "cell_type": "code",
   "execution_count": 3,
   "metadata": {},
   "outputs": [],
   "source": [
    "\n",
    "def pull_data_from_db(engine, limit):\n",
    "    # Create a dictionary to store the results\n",
    "    Data = {}\n",
    "    labels = ['Medizin','ErnÃ¤hrung','Landwirtschaft','Umweltwissenschaften','Rest']\n",
    "\n",
    "    for i in range(len(labels)): \n",
    "       Data[labels[i]] = pull_class_from_db(engine,labels[i],limit)\n",
    "\n",
    "    return Data"
   ]
  },
  {
   "cell_type": "markdown",
   "metadata": {},
   "source": [
    "### create connection so SQL DB"
   ]
  },
  {
   "cell_type": "code",
   "execution_count": 4,
   "metadata": {},
   "outputs": [],
   "source": [
    "# Replace the following values with your actual connection information\n",
    "DATABASE = 'postgres'\n",
    "USER = 'postgres'\n",
    "PASSWORD = 'postgres'\n",
    "HOST = 'localhost'  \n",
    "PORT = '5432'\n",
    "\n",
    "connection_string = f\"postgresql+psycopg2://{USER}:{PASSWORD}@{HOST}:{PORT}/{DATABASE}\"\n",
    "\n",
    "# create engine \n",
    "engine = sa.create_engine(connection_string)"
   ]
  },
  {
   "cell_type": "markdown",
   "metadata": {},
   "source": [
    "### create Train-Test dataset"
   ]
  },
  {
   "cell_type": "code",
   "execution_count": 5,
   "metadata": {},
   "outputs": [],
   "source": [
    "# prepare dataframe all\n",
    "df_all = pd.DataFrame(columns=['class', 'record_id', 'title', 'abstract'])\n"
   ]
  },
  {
   "cell_type": "code",
   "execution_count": 6,
   "metadata": {},
   "outputs": [],
   "source": [
    "# pull train-test data\n",
    "variables = pull_data_from_db(engine,3000)\n",
    "for key in variables:\n",
    "    df_all = pd.concat([df_all, pd.DataFrame(variables[key], columns=['class', 'record_id', 'title', 'abstract'])], ignore_index=True)"
   ]
  },
  {
   "cell_type": "code",
   "execution_count": 7,
   "metadata": {},
   "outputs": [],
   "source": [
    "df_all.to_pickle('../01_Daten/pkl/df_all_15k-3.pkl')"
   ]
  },
  {
   "cell_type": "markdown",
   "metadata": {},
   "source": [
    "### create validation dataset"
   ]
  },
  {
   "cell_type": "code",
   "execution_count": 8,
   "metadata": {},
   "outputs": [],
   "source": [
    "# prepare dataframe val\n",
    "df_val = pd.DataFrame(columns=['class', 'record_id', 'title', 'abstract'])"
   ]
  },
  {
   "cell_type": "code",
   "execution_count": 9,
   "metadata": {},
   "outputs": [],
   "source": [
    "# pull validation data\n",
    "variables = pull_data_from_db(engine,5000)\n",
    "#reorgnize data\n",
    "for key in variables:\n",
    "    df_temp = pd.DataFrame(columns=['class', 'record_id', 'title', 'abstract'])\n",
    "    df_temp = pd.concat([df_temp, pd.DataFrame(variables[key], columns=['class', 'record_id', 'title', 'abstract'])], ignore_index=True)\n",
    "    #check for duplikat\n",
    "    df_temp = df_temp[~df_temp[\"record_id\"].isin(df_all[\"record_id\"])]\n",
    "    df_temp_1000 = df_temp.sample(n = 1000)\n",
    "    #create new df\n",
    "    df_val = pd.concat([df_val, df_temp_1000], ignore_index=True)\n",
    "    #drop temporary df's\n",
    "    del df_temp_1000\n",
    "    del df_temp\n"
   ]
  },
  {
   "cell_type": "code",
   "execution_count": 10,
   "metadata": {},
   "outputs": [],
   "source": [
    "df_val.to_pickle('../01_Daten/pkl/df_val_5k-3.pkl')"
   ]
  }
 ],
 "metadata": {
  "kernelspec": {
   "display_name": "NovakBA",
   "language": "python",
   "name": "python3"
  },
  "language_info": {
   "codemirror_mode": {
    "name": "ipython",
    "version": 3
   },
   "file_extension": ".py",
   "mimetype": "text/x-python",
   "name": "python",
   "nbconvert_exporter": "python",
   "pygments_lexer": "ipython3",
   "version": "3.10.12"
  }
 },
 "nbformat": 4,
 "nbformat_minor": 2
}
